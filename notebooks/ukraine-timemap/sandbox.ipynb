{
    "cells": [
        {
            "attachments": {},
            "cell_type": "markdown",
            "metadata": {},
            "source": [
                "# 🇺🇦 Ukraine timemap sandbox\n",
                "\n",
                "background: https://github.com/kamangir/notebooks-and-scripts?tab=readme-ov-file#ukraine-timemap-"
            ]
        },
        {
            "cell_type": "code",
            "execution_count": 1,
            "metadata": {},
            "outputs": [],
            "source": [
                "import os\n",
                "os.environ[\"abcli_path_bash\"] = \"{}/git/awesome-bash-cli/bash\".format(os.getenv(\"HOME\"))"
            ]
        },
        {
            "cell_type": "code",
            "execution_count": 2,
            "metadata": {},
            "outputs": [
                {
                    "name": "stderr",
                    "output_type": "stream",
                    "text": [
                        "📜  abcli-9.81.1, built on 11 June 2024, 17:57:12\n"
                    ]
                }
            ],
            "source": [
                "from abcli import fullname\n",
                "from abcli import string\n",
                "from abcli.modules import objects\n",
                "from notebooks_and_scripts.ukraine_timemap.functions import ingest\n",
                "from notebooks_and_scripts.logger import logger\n",
                "\n",
                "logger.info(f\"{fullname()}, built on {string.pretty_date()}\")"
            ]
        },
        {
            "cell_type": "code",
            "execution_count": 3,
            "metadata": {},
            "outputs": [],
            "source": [
                "object_name = f\"ukraine-timemap-{string.timestamp()}\"\n",
                "object_path = objects.object_path(object_name)"
            ]
        },
        {
            "attachments": {},
            "cell_type": "markdown",
            "metadata": {},
            "source": [
                "---"
            ]
        },
        {
            "cell_type": "code",
            "execution_count": 4,
            "metadata": {},
            "outputs": [
                {
                    "name": "stderr",
                    "output_type": "stream",
                    "text": [
                        "📜  notebooks_and_scripts.ukraine_timemap.ingest -> ukraine-timemap-2024-06-11-17-57-12-78518\n",
                        ":: abcli.file: https://bellingcat-embeds.ams3.cdn.digitaloceanspaces.com/production/ukr/timemap/api.json -> /Users/kamangir/storage/abcli/ukraine-timemap-2024-06-11-17-57-12-78518/ukraine_timemap.json\n",
                        "📜  1,818 event(s) ingested from the api.\n",
                        "📜  1,818 event(s) ingested into the gdf.\n",
                        ":: save_geojson: 1,818 row(s) -> /Users/kamangir/storage/abcli/ukraine-timemap-2024-06-11-17-57-12-78518/ukraine_timemap.geojson\n"
                    ]
                }
            ],
            "source": [
                "assert ingest(object_name, verbose=True)"
            ]
        },
        {
            "attachments": {},
            "cell_type": "markdown",
            "metadata": {},
            "source": [
                "---"
            ]
        },
        {
            "cell_type": "code",
            "execution_count": 5,
            "metadata": {},
            "outputs": [
                {
                    "name": "stdout",
                    "output_type": "stream",
                    "text": [
                        "\u001b[0;36m📜 awesome-bash-cli: .env: 24 env var(s)\u001b[0m\n",
                        "\u001b[0;36m📜 awesome-bash-cli: abcli/config.env: 13 env var(s)\u001b[0m\n",
                        "\u001b[0;36m🔋 gpu: not found.\u001b[0m\n",
                        "\u001b[0;36m🚀 abcli-9.81.1.current\u001b[0m\n",
                        "\u001b[0;36m📂 object :: ukraine-timemap-2024-06-11-17-57-12-78518\u001b[0m\n"
                    ]
                },
                {
                    "name": "stderr",
                    "output_type": "stream",
                    "text": [
                        ":: ukraine-timemap-2024-06-11-17-57-12-78518 += #built_by_notebook.\n"
                    ]
                },
                {
                    "name": "stdout",
                    "output_type": "stream",
                    "text": [
                        "\u001b[0;36mconfirmed: ukraine-timemap-2024-06-11-17-57-12-78518 does not exist.\u001b[0m\n",
                        "\u001b[0;36mukraine-timemap-2024-06-11-17-57-12-78518 open upload started.\u001b[0m\n",
                        "upload: ./abcli.log to s3://kamangir/bolt/ukraine-timemap-2024-06-11-17-57-12-78518/abcli.log\n",
                        "upload: ./ukraine_timemap.json to s3://kamangir/bolt/ukraine-timemap-2024-06-11-17-57-12-78518/ukraine_timemap.json\n",
                        "upload: ./ukraine_timemap.geojson to s3://kamangir/bolt/ukraine-timemap-2024-06-11-17-57-12-78518/ukraine_timemap.geojson\n"
                    ]
                },
                {
                    "name": "stderr",
                    "output_type": "stream",
                    "text": [
                        ":: ukraine-timemap-2024-06-11-17-57-12-78518 += #open.\n"
                    ]
                }
            ],
            "source": [
                "%%bash -s $object_name\n",
                "source ~/git/awesome-bash-cli/abcli/.abcli/abcli.sh in_notebook\n",
                "\n",
                "object_name=$1\n",
                "\n",
                "abcli select $object_name\n",
                "abcli tag set . built_by_notebook\n",
                "abcli upload"
            ]
        },
        {
            "cell_type": "code",
            "execution_count": 6,
            "metadata": {},
            "outputs": [],
            "source": [
                "# END"
            ]
        }
    ],
    "metadata": {
        "kernelspec": {
            "display_name": "Python 3 (ipykernel)",
            "language": "python",
            "name": "python3"
        },
        "language_info": {
            "codemirror_mode": {
                "name": "ipython",
                "version": 3
            },
            "file_extension": ".py",
            "mimetype": "text/x-python",
            "name": "python",
            "nbconvert_exporter": "python",
            "pygments_lexer": "ipython3",
            "version": "3.9.18"
        },
        "toc": {
            "base_numbering": 1,
            "nav_menu": {},
            "number_sections": true,
            "sideBar": true,
            "skip_h1_title": false,
            "title_cell": "Table of Contents",
            "title_sidebar": "Contents",
            "toc_cell": false,
            "toc_position": {},
            "toc_section_display": true,
            "toc_window_display": false
        }
    },
    "nbformat": 4,
    "nbformat_minor": 2
}
