{
    "cells": [
        {
            "attachments": {},
            "cell_type": "markdown",
            "metadata": {},
            "source": [
                "# 🇺🇦 Ukraine timemap sandbox\n",
                "\n",
                "background: https://github.com/kamangir/notebooks-and-scripts?tab=readme-ov-file#ukraine-timemap-"
            ]
        },
        {
            "cell_type": "code",
            "execution_count": 1,
            "metadata": {},
            "outputs": [],
            "source": [
                "import os\n",
                "os.environ[\"abcli_path_bash\"] = \"{}/git/awesome-bash-cli/bash\".format(os.getenv(\"HOME\"))"
            ]
        },
        {
            "cell_type": "code",
            "execution_count": 2,
            "metadata": {},
            "outputs": [
                {
                    "name": "stderr",
                    "output_type": "stream",
                    "text": [
                        "📜  notebooks_and_scripts.ukraine_timemap-4.522.1.abcli-9.81.1, built on 11 June 2024, 18:33:16\n"
                    ]
                }
            ],
            "source": [
                "from abcli import fullname\n",
                "from abcli import string\n",
                "from abcli.modules import objects\n",
                "from notebooks_and_scripts import VERSION\n",
                "from notebooks_and_scripts.ukraine_timemap import NAME\n",
                "from notebooks_and_scripts.ukraine_timemap.functions import ingest\n",
                "from notebooks_and_scripts.logger import logger\n",
                "\n",
                "logger.info(f\"{NAME}-{VERSION}.{fullname()}, built on {string.pretty_date()}\")"
            ]
        },
        {
            "cell_type": "code",
            "execution_count": 3,
            "metadata": {},
            "outputs": [],
            "source": [
                "object_name = f\"ukraine-timemap-{string.timestamp()}\"\n",
                "object_path = objects.object_path(object_name)"
            ]
        },
        {
            "attachments": {},
            "cell_type": "markdown",
            "metadata": {},
            "source": [
                "---"
            ]
        },
        {
            "cell_type": "code",
            "execution_count": 4,
            "metadata": {},
            "outputs": [
                {
                    "name": "stderr",
                    "output_type": "stream",
                    "text": [
                        "📜  notebooks_and_scripts.ukraine_timemap.ingest -> ukraine-timemap-2024-06-11-18-33-16-21552\n",
                        ":: abcli.file: https://bellingcat-embeds.ams3.cdn.digitaloceanspaces.com/production/ukr/timemap/api.json -> /Users/kamangir/storage/abcli/ukraine-timemap-2024-06-11-18-33-16-21552/ukraine_timemap.json\n",
                        "📜  1,818 event(s) ingested from the api.\n",
                        "📜  1,818 event(s) ingested into the gdf.\n",
                        ":: save_geojson: 1,818 row(s) -> /Users/kamangir/storage/abcli/ukraine-timemap-2024-06-11-18-33-16-21552/ukraine_timemap.geojson\n"
                    ]
                }
            ],
            "source": [
                "success, gdf = ingest(object_name, verbose=True)\n",
                "assert success"
            ]
        },
        {
            "cell_type": "code",
            "execution_count": 5,
            "metadata": {},
            "outputs": [
                {
                    "data": {
                        "text/html": [
                            "<div>\n",
                            "<style scoped>\n",
                            "    .dataframe tbody tr th:only-of-type {\n",
                            "        vertical-align: middle;\n",
                            "    }\n",
                            "\n",
                            "    .dataframe tbody tr th {\n",
                            "        vertical-align: top;\n",
                            "    }\n",
                            "\n",
                            "    .dataframe thead th {\n",
                            "        text-align: right;\n",
                            "    }\n",
                            "</style>\n",
                            "<table border=\"1\" class=\"dataframe\">\n",
                            "  <thead>\n",
                            "    <tr style=\"text-align: right;\">\n",
                            "      <th></th>\n",
                            "      <th>geometry</th>\n",
                            "      <th>sources</th>\n",
                            "      <th>id</th>\n",
                            "      <th>description</th>\n",
                            "      <th>date</th>\n",
                            "      <th>location</th>\n",
                            "      <th>graphic</th>\n",
                            "      <th>associations</th>\n",
                            "      <th>time</th>\n",
                            "    </tr>\n",
                            "  </thead>\n",
                            "  <tbody>\n",
                            "    <tr>\n",
                            "      <th>2</th>\n",
                            "      <td>POINT (36.74928 51.04211)</td>\n",
                            "      <td>src3</td>\n",
                            "      <td>VUMV31</td>\n",
                            "      <td>A church damaged after a reported strike.</td>\n",
                            "      <td>2024/06/08</td>\n",
                            "      <td>Prokhorovka, Belgorod region</td>\n",
                            "      <td>FALSE</td>\n",
                            "      <td>asc3</td>\n",
                            "      <td>00:00</td>\n",
                            "    </tr>\n",
                            "    <tr>\n",
                            "      <th>3</th>\n",
                            "      <td>POINT (37.20121 48.27265)</td>\n",
                            "      <td>src4, src5</td>\n",
                            "      <td>Q47H7V</td>\n",
                            "      <td>A post office destroyed after a reported strike.</td>\n",
                            "      <td>2024/06/08</td>\n",
                            "      <td>Pokrovsk, Donetsk region</td>\n",
                            "      <td>FALSE</td>\n",
                            "      <td>asc4, asc5, asc2</td>\n",
                            "      <td>00:00</td>\n",
                            "    </tr>\n",
                            "    <tr>\n",
                            "      <th>5</th>\n",
                            "      <td>POINT (32.56824 46.65946)</td>\n",
                            "      <td>src7, src8, src9</td>\n",
                            "      <td>JKQQLC</td>\n",
                            "      <td>A hypermarket building on fire after an overni...</td>\n",
                            "      <td>2024/06/06</td>\n",
                            "      <td>Kherson</td>\n",
                            "      <td>FALSE</td>\n",
                            "      <td>asc5</td>\n",
                            "      <td>00:00</td>\n",
                            "    </tr>\n",
                            "    <tr>\n",
                            "      <th>4</th>\n",
                            "      <td>POINT (32.31059 46.62542)</td>\n",
                            "      <td>src6</td>\n",
                            "      <td>BSJY0C</td>\n",
                            "      <td>School building is reported damaged as a resul...</td>\n",
                            "      <td>2024/06/03</td>\n",
                            "      <td>Tomyna Balka, Kherson oblast</td>\n",
                            "      <td>FALSE</td>\n",
                            "      <td>asc6, asc2</td>\n",
                            "      <td>00:00</td>\n",
                            "    </tr>\n",
                            "    <tr>\n",
                            "      <th>13</th>\n",
                            "      <td>POINT (36.80956 49.45591)</td>\n",
                            "      <td>src39, src40, src41, src42</td>\n",
                            "      <td>WAATG2</td>\n",
                            "      <td>11 people reportedly injured and buildings are...</td>\n",
                            "      <td>2024/06/01</td>\n",
                            "      <td>Balakliya, Kharkiv region</td>\n",
                            "      <td>TRUE</td>\n",
                            "      <td>asc8</td>\n",
                            "      <td>00:00</td>\n",
                            "    </tr>\n",
                            "  </tbody>\n",
                            "</table>\n",
                            "</div>"
                        ],
                        "text/plain": [
                            "                     geometry                     sources      id  \\\n",
                            "2   POINT (36.74928 51.04211)                        src3  VUMV31   \n",
                            "3   POINT (37.20121 48.27265)                  src4, src5  Q47H7V   \n",
                            "5   POINT (32.56824 46.65946)            src7, src8, src9  JKQQLC   \n",
                            "4   POINT (32.31059 46.62542)                        src6  BSJY0C   \n",
                            "13  POINT (36.80956 49.45591)  src39, src40, src41, src42  WAATG2   \n",
                            "\n",
                            "                                          description        date  \\\n",
                            "2           A church damaged after a reported strike.  2024/06/08   \n",
                            "3   A post office destroyed after a reported strike.   2024/06/08   \n",
                            "5   A hypermarket building on fire after an overni...  2024/06/06   \n",
                            "4   School building is reported damaged as a resul...  2024/06/03   \n",
                            "13  11 people reportedly injured and buildings are...  2024/06/01   \n",
                            "\n",
                            "                        location graphic      associations   time  \n",
                            "2   Prokhorovka, Belgorod region   FALSE              asc3  00:00  \n",
                            "3       Pokrovsk, Donetsk region   FALSE  asc4, asc5, asc2  00:00  \n",
                            "5                        Kherson   FALSE              asc5  00:00  \n",
                            "4   Tomyna Balka, Kherson oblast   FALSE        asc6, asc2  00:00  \n",
                            "13     Balakliya, Kharkiv region    TRUE              asc8  00:00  "
                        ]
                    },
                    "execution_count": 5,
                    "metadata": {},
                    "output_type": "execute_result"
                }
            ],
            "source": [
                "gdf.head()"
            ]
        },
        {
            "attachments": {},
            "cell_type": "markdown",
            "metadata": {},
            "source": [
                "---"
            ]
        },
        {
            "cell_type": "code",
            "execution_count": 6,
            "metadata": {},
            "outputs": [],
            "source": [
                "from collections import Counter\n",
                "\n",
                "histogram = item_counts = Counter(list(gdf[\"date\"].values))"
            ]
        },
        {
            "cell_type": "code",
            "execution_count": 11,
            "metadata": {},
            "outputs": [
                {
                    "name": "stderr",
                    "output_type": "stream",
                    "text": [
                        "matplotlib.category Using categorical units to plot a list of strings that are all parsable as floats or dates. If these strings should be plotted as numbers, cast to the appropriate data type before plotting.\n",
                        "matplotlib.category Using categorical units to plot a list of strings that are all parsable as floats or dates. If these strings should be plotted as numbers, cast to the appropriate data type before plotting.\n",
                        "matplotlib.category Using categorical units to plot a list of strings that are all parsable as floats or dates. If these strings should be plotted as numbers, cast to the appropriate data type before plotting.\n"
                    ]
                }
            ],
            "source": [
                "import matplotlib.pyplot as plt\n",
                "\n",
                "dates = sorted(histogram.keys())\n",
                "values = [histogram[date] for date in dates]\n",
                "\n",
                "# Creating the bar chart\n",
                "plt.figure(figsize=(10, 5))\n",
                "plt.bar(dates, values, color='blue')\n",
                "plt.xlabel(\" | \".join(['Date', object_name, f\"{NAME}-{VERSION}.{fullname()}\"]))\n",
                "plt.ylabel('# Events / Day')\n",
                "plt.title('Civilian Harm in Ukraine TimeMap')\n",
                "\n",
                "date_count = 20\n",
                "if len(dates) > date_count:\n",
                "    selected_dates = [dates[i] for i in range(0, len(dates), len(dates)//date_count)]\n",
                "    if dates[-1] not in selected_dates:\n",
                "        selected_dates.append(dates[-1])\n",
                "else:\n",
                "    selected_dates = dates\n",
                "plt.xticks(selected_dates, rotation=45)\n",
                "\n",
                "plt.tight_layout()\n",
                "plt.grid(True)\n",
                "\n",
                "plt.show()"
            ]
        },
        {
            "cell_type": "code",
            "execution_count": 8,
            "metadata": {},
            "outputs": [
                {
                    "name": "stdout",
                    "output_type": "stream",
                    "text": [
                        "\u001b[0;36m📜 awesome-bash-cli: .env: 24 env var(s)\u001b[0m\n",
                        "\u001b[0;36m📜 awesome-bash-cli: abcli/config.env: 13 env var(s)\u001b[0m\n",
                        "\u001b[0;36m🔋 gpu: not found.\u001b[0m\n",
                        "\u001b[0;36m🚀 abcli-9.81.1.current\u001b[0m\n",
                        "\u001b[0;36m📂 object :: ukraine-timemap-2024-06-11-18-33-16-21552\u001b[0m\n"
                    ]
                },
                {
                    "name": "stderr",
                    "output_type": "stream",
                    "text": [
                        ":: ukraine-timemap-2024-06-11-18-33-16-21552 += #built_by_notebook.\n"
                    ]
                },
                {
                    "name": "stdout",
                    "output_type": "stream",
                    "text": [
                        "\u001b[0;36mconfirmed: ukraine-timemap-2024-06-11-18-33-16-21552 does not exist.\u001b[0m\n",
                        "\u001b[0;36mukraine-timemap-2024-06-11-18-33-16-21552 open upload started.\u001b[0m\n",
                        "upload: ./abcli.log to s3://kamangir/bolt/ukraine-timemap-2024-06-11-18-33-16-21552/abcli.log\n",
                        "upload: ./ukraine_timemap.json to s3://kamangir/bolt/ukraine-timemap-2024-06-11-18-33-16-21552/ukraine_timemap.json\n",
                        "upload: ./ukraine_timemap.geojson to s3://kamangir/bolt/ukraine-timemap-2024-06-11-18-33-16-21552/ukraine_timemap.geojson\n"
                    ]
                },
                {
                    "name": "stderr",
                    "output_type": "stream",
                    "text": [
                        ":: ukraine-timemap-2024-06-11-18-33-16-21552 += #open.\n"
                    ]
                }
            ],
            "source": [
                "%%bash -s $object_name\n",
                "source ~/git/awesome-bash-cli/abcli/.abcli/abcli.sh in_notebook\n",
                "\n",
                "object_name=$1\n",
                "\n",
                "abcli select $object_name\n",
                "abcli tag set . built_by_notebook\n",
                "abcli upload"
            ]
        },
        {
            "cell_type": "code",
            "execution_count": 9,
            "metadata": {},
            "outputs": [],
            "source": [
                "# END"
            ]
        }
    ],
    "metadata": {
        "kernelspec": {
            "display_name": "Python 3 (ipykernel)",
            "language": "python",
            "name": "python3"
        },
        "language_info": {
            "codemirror_mode": {
                "name": "ipython",
                "version": 3
            },
            "file_extension": ".py",
            "mimetype": "text/x-python",
            "name": "python",
            "nbconvert_exporter": "python",
            "pygments_lexer": "ipython3",
            "version": "3.9.18"
        },
        "toc": {
            "base_numbering": 1,
            "nav_menu": {},
            "number_sections": true,
            "sideBar": true,
            "skip_h1_title": false,
            "title_cell": "Table of Contents",
            "title_sidebar": "Contents",
            "toc_cell": false,
            "toc_position": {},
            "toc_section_display": true,
            "toc_window_display": false
        }
    },
    "nbformat": 4,
    "nbformat_minor": 2
}
