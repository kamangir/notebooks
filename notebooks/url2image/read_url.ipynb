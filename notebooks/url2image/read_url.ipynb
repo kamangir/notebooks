{
    "cells": [
        {
            "attachments": {},
            "cell_type": "markdown",
            "metadata": {},
            "source": [
                "# `url2image.read_url`\n",
                "\n",
                "[url2image.read_url](../../notebooks_and_scripts/url2image/functions.py)"
            ]
        },
        {
            "cell_type": "code",
            "execution_count": 1,
            "metadata": {},
            "outputs": [
                {
                    "name": "stderr",
                    "output_type": "stream",
                    "text": [
                        "notebooks & scripts-4.35.1-abcli-7.2540.1-unknown, built on 02 December 2023, 11:22:51\n"
                    ]
                }
            ],
            "source": [
                "from abcli import fullname\n",
                "from abcli import string\n",
                "\n",
                "from notebooks_and_scripts import NAME, VERSION\n",
                "from notebooks_and_scripts.url2image import read_url\n",
                "\n",
                "import abcli.logging\n",
                "import logging\n",
                "\n",
                "logger = logging.getLogger()\n",
                "\n",
                "logger.info(f\"{NAME}-{VERSION}-{fullname()}, built on {string.pretty_date()}\")"
            ]
        },
        {
            "cell_type": "code",
            "execution_count": 2,
            "metadata": {},
            "outputs": [
                {
                    "name": "stderr",
                    "output_type": "stream",
                    "text": [
                        "response: <Response [200]>\n",
                        "url2image.read_url(https://earthdaily.com/constellation/): Today’s Observation for Tomorrow’s Challenges. EarthDaily Constellation is flying in 2024 - The Most Advanced Change Detection System With the most spectrally diverse range ever designed for a commercial mission, EarthDaily’s superspectral initiative will alter our understanding of how our planet is changing. Quality Providing  seamless access to the EarthDaily satellite data stream, with daily global high-resolution coverage in 22 spectral bands, automatically calibrated and processed to the highest scientific quality for direct to algorithm deployment. Coverage ~100% of Earth’s landmass imaged at the same time everyday, with a string of pearls constellation design Spectral Diversity 22 highly calibrated spectral bands covering Visible, Near, Short-wave-, Mid-wave-, and Thermal-Infrared bands 1 Coastal Dust & Smoke, Ocean Cooler: Water Quality and Organic Content 2 Blue Plant Senescence and Pigment, Soil Color, Mineral Composition 3 Aqua Plant Pigments, Ocean Cooler: Water Quality and Organic Content 4 Green Total Chlorophyll, Ocean Cooler: Water Quality and Organic Content 5 Yellow Plant Pigments, Soil Contamination, Plant Growth and Stress 6 Red Plant Structure, Nitrogen, Moisture, Soil Colour 7 Red Edge 1 8 Red Edge 2 9 Red Edge 3 Plant Stress, Fluorescence, Type 10 Near Infrared Organic Matter, Ocean Colour: Water Quality and Organic Content 11 Water Vapour 1 Atmospheric Water Absorption, Crop Stress and Moisture 12 Water Vapour 2 Atmospheric Water Vapour 13 SWIR 1 Atmospheric Aerosols, Vegetated Water Content 14 Cirrus Cloud Properties 15 SWIR 2 Snow and Ice Discrimination, Soil Moisture 16 Methane 1 Methane Characterization 17 Methane 2 Methane Characterization 18 Wildfire Radiative Fire Power, Wildfire Detection and Characterization 19 TIR 1 20 TIR 2 21 TIR 3 22 TIR 4 Volcanoes, Mineral Composition, Surface Temperature, Snow Characterization, Soil and Vegetation Moisture, Urban Heat Historical Data Immediate access to historical satellite data resources enables the extraction of information needed to observe long-term trends. This access also provides the ability to train and evaluate machine learning models to extract information from satellite imagery. A historical data set is required to develop methodologies for assimilating satellite data into various models, including those related to weather, climate change, land-atmosphere interactions, and many others. Constellation Countdown  Follow Progress Stay tuned to the progress of this mission, our offerings, and the 2024 launch of the EarthDaily Constellation. Have further questions?   EarthDaily is rated 4.8 out of 5 on Glassdoor. ★ ★ ★ ★ ★ © 2023 EarthDaily Analytics | All Rights Reserved.\n"
                    ]
                }
            ],
            "source": [
                "success, description = read_url(\n",
                "    url=\"https://earthdaily.com/constellation/\",\n",
                "    verbose=True,\n",
                ")\n",
                "assert(success)"
            ]
        },
        {
            "cell_type": "code",
            "execution_count": 3,
            "metadata": {},
            "outputs": [],
            "source": [
                "# END"
            ]
        }
    ],
    "metadata": {
        "kernelspec": {
            "display_name": "Python 3 (ipykernel)",
            "language": "python",
            "name": "python3"
        },
        "language_info": {
            "codemirror_mode": {
                "name": "ipython",
                "version": 3
            },
            "file_extension": ".py",
            "mimetype": "text/x-python",
            "name": "python",
            "nbconvert_exporter": "python",
            "pygments_lexer": "ipython3",
            "version": "3.11.5"
        },
        "toc": {
            "base_numbering": 1,
            "nav_menu": {},
            "number_sections": true,
            "sideBar": true,
            "skip_h1_title": false,
            "title_cell": "Table of Contents",
            "title_sidebar": "Contents",
            "toc_cell": false,
            "toc_position": {},
            "toc_section_display": true,
            "toc_window_display": false
        }
    },
    "nbformat": 4,
    "nbformat_minor": 2
}
