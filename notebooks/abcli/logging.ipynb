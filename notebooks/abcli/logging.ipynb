{
    "cells": [
        {
            "attachments": {},
            "cell_type": "markdown",
            "metadata": {},
            "source": [
                "# abcli.logging"
            ]
        },
        {
            "cell_type": "code",
            "execution_count": 1,
            "metadata": {},
            "outputs": [],
            "source": [
                "import os\n",
                "os.environ[\"abcli_path_bash\"] = \"{}/git/awesome-bash-cli/bash\".format(os.getenv(\"HOME\"))"
            ]
        },
        {
            "cell_type": "code",
            "execution_count": 2,
            "metadata": {},
            "outputs": [
                {
                    "name": "stderr",
                    "output_type": "stream",
                    "text": [
                        "ℹ️ 2024-02-18 12:54:54,693 | botocore.credentials | Found credentials in environment variables.\n",
                        "ℹ️ 2024-02-18 12:54:55,468 | abcli | abcli-7.2768.1-unknown\n"
                    ]
                }
            ],
            "source": [
                "import os\n",
                "from abcli import fullname\n",
                "from abcli.modules import objects\n",
                "from abcli.logging import logger, crash_report\n",
                "\n",
                "logger.info(fullname())"
            ]
        },
        {
            "attachments": {},
            "cell_type": "markdown",
            "metadata": {},
            "source": [
                "---"
            ]
        },
        {
            "cell_type": "code",
            "execution_count": 3,
            "metadata": {},
            "outputs": [
                {
                    "name": "stderr",
                    "output_type": "stream",
                    "text": [
                        "ℹ️ 2024-02-18 12:54:55,477 | abcli | Hello World! 🪄\n"
                    ]
                }
            ],
            "source": [
                "logger.info(\"Hello World! 🪄\")"
            ]
        },
        {
            "cell_type": "code",
            "execution_count": 4,
            "metadata": {},
            "outputs": [
                {
                    "name": "stderr",
                    "output_type": "stream",
                    "text": [
                        "❗️ 2024-02-18 12:54:55,485 | abcli | crash: major failure.\n",
                        "Traceback (most recent call last):\n",
                        "  File \"/var/folders/0z/ks1j56js1qg29vxv6vtwtcjw0000gp/T/ipykernel_46778/2860441983.py\", line 2, in <module>\n",
                        "    void\n",
                        "NameError: name 'void' is not defined\n"
                    ]
                }
            ],
            "source": [
                "try:\n",
                "    void\n",
                "except:\n",
                "    crash_report(\"major failure.\")\n",
                "    pass\n"
            ]
        },
        {
            "attachments": {},
            "cell_type": "markdown",
            "metadata": {},
            "source": [
                "---"
            ]
        },
        {
            "cell_type": "code",
            "execution_count": 5,
            "metadata": {},
            "outputs": [],
            "source": [
                "# END"
            ]
        }
    ],
    "metadata": {
        "kernelspec": {
            "display_name": "Python 3 (ipykernel)",
            "language": "python",
            "name": "python3"
        },
        "language_info": {
            "codemirror_mode": {
                "name": "ipython",
                "version": 3
            },
            "file_extension": ".py",
            "mimetype": "text/x-python",
            "name": "python",
            "nbconvert_exporter": "python",
            "pygments_lexer": "ipython3",
            "version": "3.11.7"
        },
        "toc": {
            "base_numbering": 1,
            "nav_menu": {},
            "number_sections": true,
            "sideBar": true,
            "skip_h1_title": false,
            "title_cell": "Table of Contents",
            "title_sidebar": "Contents",
            "toc_cell": false,
            "toc_position": {},
            "toc_section_display": true,
            "toc_window_display": false
        }
    },
    "nbformat": 4,
    "nbformat_minor": 2
}
