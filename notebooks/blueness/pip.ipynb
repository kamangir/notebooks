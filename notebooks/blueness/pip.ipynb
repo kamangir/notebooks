{
    "cells": [
        {
            "attachments": {},
            "cell_type": "markdown",
            "metadata": {},
            "source": [
                "# blueness/pip"
            ]
        },
        {
            "cell_type": "code",
            "execution_count": 1,
            "metadata": {},
            "outputs": [],
            "source": [
                "import os\n",
                "os.environ[\"abcli_path_bash\"] = \"{}/git/awesome-bash-cli/bash\".format(os.getenv(\"HOME\"))"
            ]
        },
        {
            "cell_type": "code",
            "execution_count": 2,
            "metadata": {},
            "outputs": [
                {
                    "name": "stderr",
                    "output_type": "stream",
                    "text": [
                        ":: abcli-9.131.1, built on 30 June 2024, 14:29:54\n"
                    ]
                }
            ],
            "source": [
                "import pkg_resources\n",
                "from abcli import fullname\n",
                "from abcli import string\n",
                "from abcli import file\n",
                "from abcli.logger import logger\n",
                "from abcli.plugins.functions import list_of_installed\n",
                "\n",
                "logger.info(f\"{fullname()}, built on {string.pretty_date()}\")"
            ]
        },
        {
            "attachments": {},
            "cell_type": "markdown",
            "metadata": {},
            "source": [
                "---"
            ]
        },
        {
            "cell_type": "code",
            "execution_count": 17,
            "metadata": {},
            "outputs": [
                {
                    "name": "stderr",
                    "output_type": "stream",
                    "text": [
                        ":: key: abadpour\n",
                        ":: module_path: /Users/kamangir/miniconda3/envs/abcli/lib/python3.9/site-packages\n",
                        ":: abadpour 6.37.1\n"
                    ]
                },
                {
                    "name": "stdout",
                    "output_type": "stream",
                    "text": [
                        "ls: /Users/kamangir/miniconda3/envs/abcli/lib/python3.9/site-packages/abadpour: No such file or directory\n"
                    ]
                }
            ],
            "source": [
                "list_of_packages = [item for item in pkg_resources.working_set]\n",
                "\n",
                "package = list_of_packages[3]\n",
                "\n",
                "logger.info(f\"key: {package.key}\")\n",
                "logger.info(f\"module_path: {package.module_path}\")\n",
                "logger.info(package)\n",
                "package\n",
                "\n",
                "! ls /Users/kamangir/miniconda3/envs/abcli/lib/python3.9/site-packages/{package.key}\n"
            ]
        },
        {
            "cell_type": "code",
            "execution_count": 18,
            "metadata": {},
            "outputs": [
                {
                    "data": {
                        "text/plain": [
                            "[articraft 2.54.1 (/Users/kamangir/miniconda3/envs/abcli/lib/python3.9/site-packages)]"
                        ]
                    },
                    "execution_count": 18,
                    "metadata": {},
                    "output_type": "execute_result"
                }
            ],
            "source": [
                "[item for item in list_of_packages if item.key == \"articraft\"]"
            ]
        },
        {
            "cell_type": "code",
            "execution_count": null,
            "metadata": {},
            "outputs": [],
            "source": [
                "list_of_installed()"
            ]
        },
        {
            "attachments": {},
            "cell_type": "markdown",
            "metadata": {},
            "source": [
                "---"
            ]
        },
        {
            "cell_type": "code",
            "execution_count": null,
            "metadata": {},
            "outputs": [],
            "source": [
                "# END"
            ]
        }
    ],
    "metadata": {
        "kernelspec": {
            "display_name": "Python 3 (ipykernel)",
            "language": "python",
            "name": "python3"
        },
        "language_info": {
            "codemirror_mode": {
                "name": "ipython",
                "version": 3
            },
            "file_extension": ".py",
            "mimetype": "text/x-python",
            "name": "python",
            "nbconvert_exporter": "python",
            "pygments_lexer": "ipython3",
            "version": "3.9.19"
        },
        "toc": {
            "base_numbering": 1,
            "nav_menu": {},
            "number_sections": true,
            "sideBar": true,
            "skip_h1_title": false,
            "title_cell": "Table of Contents",
            "title_sidebar": "Contents",
            "toc_cell": false,
            "toc_position": {},
            "toc_section_display": true,
            "toc_window_display": false
        }
    },
    "nbformat": 4,
    "nbformat_minor": 2
}
