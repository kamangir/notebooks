{
    "cells": [
        {
            "attachments": {},
            "cell_type": "markdown",
            "metadata": {},
            "source": [
                "# networkx"
            ]
        },
        {
            "cell_type": "code",
            "execution_count": 1,
            "metadata": {},
            "outputs": [],
            "source": [
                "import os\n",
                "os.environ[\"abcli_path_bash\"] = \"{}/git/awesome-bash-cli/bash\".format(os.getenv(\"HOME\"))"
            ]
        },
        {
            "cell_type": "code",
            "execution_count": 10,
            "metadata": {},
            "outputs": [],
            "source": [
                "# !pip3 install networkx matplotlib"
            ]
        },
        {
            "cell_type": "code",
            "execution_count": 2,
            "metadata": {},
            "outputs": [
                {
                    "name": "stderr",
                    "output_type": "stream",
                    "text": [
                        "botocore.credentials Found credentials in environment variables.\n",
                        ":: abcli-8.119.1, built on 27 April 2024, 14:57:05\n"
                    ]
                }
            ],
            "source": [
                "from abcli import fullname\n",
                "from abcli import string\n",
                "from abcli.modules import objects\n",
                "from abcli.plugins import seed\n",
                "from abcli.logger import logger\n",
                "\n",
                "logger.info(f\"{fullname()}, built on {string.pretty_date()}\")"
            ]
        },
        {
            "cell_type": "markdown",
            "metadata": {},
            "source": [
                "---"
            ]
        },
        {
            "cell_type": "code",
            "execution_count": 11,
            "metadata": {},
            "outputs": [
                {
                    "data": {
                        "image/png": "[encoded data removed]",
                        "text/plain": [
                            "<Figure size 640x480 with 1 Axes>"
                        ]
                    },
                    "metadata": {},
                    "output_type": "display_data"
                }
            ],
            "source": [
                "import networkx as nx\n",
                "import matplotlib.pyplot as plt\n",
                "\n",
                "def parse_notation(notation, graph, parent=None):\n",
                "    stack = []\n",
                "    i = 0\n",
                "    while i < len(notation):\n",
                "        char = notation[i]\n",
                "        \n",
                "        if char == '{':\n",
                "            subseq = ''\n",
                "            i += 1\n",
                "            balance = 1\n",
                "            while balance != 0:\n",
                "                if notation[i] == '{':\n",
                "                    balance += 1\n",
                "                elif notation[i] == '}':\n",
                "                    balance -= 1\n",
                "                if balance != 0:\n",
                "                    subseq += notation[i]\n",
                "                i += 1\n",
                "            nodes = parse_notation(subseq, graph)\n",
                "            if parent:\n",
                "                for node in nodes:\n",
                "                    graph.add_edge(parent, node)\n",
                "            stack.extend(nodes)\n",
                "        elif char == '[':\n",
                "            subseq = ''\n",
                "            i += 1\n",
                "            balance = 1\n",
                "            while balance != 0:\n",
                "                if notation[i] == '[':\n",
                "                    balance += 1\n",
                "                elif notation[i] == ']':\n",
                "                    balance -= 1\n",
                "                if balance != 0:\n",
                "                    subseq += notation[i]\n",
                "                i += 1\n",
                "            last_node = parse_notation(subseq, graph, parent)\n",
                "            if parent:\n",
                "                graph.add_edge(parent, last_node[0])\n",
                "            stack.extend(last_node)\n",
                "        else:\n",
                "            if parent:\n",
                "                graph.add_edge(parent, char)\n",
                "            stack.append(char)\n",
                "        i += 1\n",
                "    \n",
                "    # Connecting sequential tasks\n",
                "    for j in range(len(stack) - 1):\n",
                "        graph.add_edge(stack[j], stack[j + 1])\n",
                "\n",
                "    return stack\n",
                "\n",
                "def create_dag(notation):\n",
                "    graph = nx.DiGraph()\n",
                "    parse_notation(notation, graph)\n",
                "    return graph\n",
                "\n",
                "def draw_dag(graph):\n",
                "    pos = nx.spring_layout(graph)\n",
                "    nx.draw(graph, pos, with_labels=True, node_color='skyblue', node_size=2000, edge_color='#FF5733', font_size=10, font_weight='bold')\n",
                "    plt.show()\n",
                "\n",
                "# Example usage\n",
                "notation = \"{[a{bc}d{efg}hi]j[kl{mn}op]q}\"\n",
                "dag = create_dag(notation)\n",
                "draw_dag(dag)\n"
            ]
        },
        {
            "attachments": {},
            "cell_type": "markdown",
            "metadata": {},
            "source": [
                "---"
            ]
        },
        {
            "cell_type": "code",
            "execution_count": 8,
            "metadata": {},
            "outputs": [],
            "source": [
                "# END"
            ]
        }
    ],
    "metadata": {
        "kernelspec": {
            "display_name": "Python 3 (ipykernel)",
            "language": "python",
            "name": "python3"
        },
        "language_info": {
            "codemirror_mode": {
                "name": "ipython",
                "version": 3
            },
            "file_extension": ".py",
            "mimetype": "text/x-python",
            "name": "python",
            "nbconvert_exporter": "python",
            "pygments_lexer": "ipython3",
            "version": "3.9.18"
        },
        "toc": {
            "base_numbering": 1,
            "nav_menu": {},
            "number_sections": true,
            "sideBar": true,
            "skip_h1_title": false,
            "title_cell": "Table of Contents",
            "title_sidebar": "Contents",
            "toc_cell": false,
            "toc_position": {},
            "toc_section_display": true,
            "toc_window_display": false
        }
    },
    "nbformat": 4,
    "nbformat_minor": 2
}
