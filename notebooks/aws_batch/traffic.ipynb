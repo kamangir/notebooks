{
    "cells": [
        {
            "attachments": {},
            "cell_type": "markdown",
            "metadata": {},
            "source": [
                "# networkx"
            ]
        },
        {
            "cell_type": "code",
            "execution_count": 1,
            "metadata": {},
            "outputs": [],
            "source": [
                "import os\n",
                "os.environ[\"abcli_path_bash\"] = \"{}/git/awesome-bash-cli/bash\".format(os.getenv(\"HOME\"))"
            ]
        },
        {
            "cell_type": "code",
            "execution_count": 2,
            "metadata": {},
            "outputs": [],
            "source": [
                "# !pip3 install networkx matplotlib\n",
                "# !pip3 install pydot"
            ]
        },
        {
            "cell_type": "code",
            "execution_count": 3,
            "metadata": {},
            "outputs": [
                {
                    "name": "stderr",
                    "output_type": "stream",
                    "text": [
                        "botocore.credentials Found credentials in environment variables.\n",
                        "📜  notebooks & scripts-4.287.1-abcli-8.121.1, built on 27 April 2024, 17:04:25\n"
                    ]
                }
            ],
            "source": [
                "from abcli import fullname\n",
                "from abcli import string\n",
                "from abcli import file\n",
                "from abcli.modules import objects\n",
                "from notebooks_and_scripts import NAME, VERSION\n",
                "from notebooks_and_scripts.logger import logger\n",
                "from notebooks_and_scripts.aws_batch.traffic.patterns import load_pattern, list_of_patterns\n",
                "\n",
                "logger.info(f\"{NAME}-{VERSION}-{fullname()}, built on {string.pretty_date()}\")"
            ]
        },
        {
            "cell_type": "markdown",
            "metadata": {},
            "source": [
                "---"
            ]
        },
        {
            "cell_type": "code",
            "execution_count": 4,
            "metadata": {},
            "outputs": [],
            "source": [
                "object_name = f\"traffic-{string.timestamp()}\"\n",
                "object_path = objects.object_path(object_name)"
            ]
        },
        {
            "cell_type": "code",
            "execution_count": 5,
            "metadata": {},
            "outputs": [
                {
                    "name": "stderr",
                    "output_type": "stream",
                    "text": [
                        "📜  1 pattern(s): a-bc-d\n"
                    ]
                }
            ],
            "source": [
                "logger.info(\"{} pattern(s): {}\".format(\n",
                "    len(list_of_patterns()),\n",
                "    \",\".join(list_of_patterns()),\n",
                "))"
            ]
        },
        {
            "cell_type": "code",
            "execution_count": 6,
            "metadata": {},
            "outputs": [],
            "source": [
                "pattern = \"a-bc-d\""
            ]
        },
        {
            "cell_type": "code",
            "execution_count": 7,
            "metadata": {},
            "outputs": [
                {
                    "name": "stderr",
                    "output_type": "stream",
                    "text": [
                        "📜  loaded a MultiDiGraph[4 node(s) X 4 edge(s)] from /Users/kamangir/git/notebooks-and-scripts/notebooks_and_scripts/aws_batch/traffic/patterns/a-bc-d.dot.\n"
                    ]
                },
                {
                    "data": {
                        "image/png": "[encoded data removed]",
                        "text/plain": [
                            "<Figure size 200x200 with 1 Axes>"
                        ]
                    },
                    "metadata": {},
                    "output_type": "display_data"
                },
                {
                    "name": "stderr",
                    "output_type": "stream",
                    "text": [
                        ":: figure -> /Users/kamangir/storage/abcli/traffic-2024-04-27-17-04-25-53852/a-bc-d.png\n"
                    ]
                }
            ],
            "source": [
                "success, graph = load_pattern(\n",
                "    pattern=pattern,\n",
                "    export_as_image=os.path.join(object_path,f\"{pattern}.png\"))\n",
                "assert success"
            ]
        },
        {
            "attachments": {},
            "cell_type": "markdown",
            "metadata": {},
            "source": [
                "---"
            ]
        },
        {
            "cell_type": "code",
            "execution_count": 8,
            "metadata": {},
            "outputs": [
                {
                    "name": "stdout",
                    "output_type": "stream",
                    "text": [
                        "\u001b[0;36m📜 awesome-bash-cli: .env: 22 env var(s)\u001b[0m\n",
                        "\u001b[0;36m📜 awesome-bash-cli: abcli/config.env: 13 env var(s)\u001b[0m\n",
                        "\u001b[0;36m🔋 gpu: not found.\u001b[0m\n",
                        "\u001b[0;36m🚀 abcli-8.121.1.current\u001b[0m\n",
                        "\u001b[0;36mconfirmed: traffic-2024-04-27-17-04-25-53852 does not exist.\u001b[0m\n",
                        "\u001b[0;36mtraffic-2024-04-27-17-04-25-53852 open upload started.\u001b[0m\n",
                        "upload: ../../../../storage/abcli/traffic-2024-04-27-17-04-25-53852/a-bc-d.png to s3://kamangir/bolt/traffic-2024-04-27-17-04-25-53852/a-bc-d.png\n"
                    ]
                },
                {
                    "name": "stderr",
                    "output_type": "stream",
                    "text": [
                        ":: traffic-2024-04-27-17-04-25-53852 += #open.\n"
                    ]
                }
            ],
            "source": [
                "%%bash -s $object_name\n",
                "source ~/git/awesome-bash-cli/bash/abcli.sh in_notebook\n",
                "\n",
                "object_name=$1\n",
                "\n",
                "abcli upload - $object_name"
            ]
        },
        {
            "cell_type": "code",
            "execution_count": 9,
            "metadata": {},
            "outputs": [],
            "source": [
                "# END"
            ]
        }
    ],
    "metadata": {
        "kernelspec": {
            "display_name": "Python 3 (ipykernel)",
            "language": "python",
            "name": "python3"
        },
        "language_info": {
            "codemirror_mode": {
                "name": "ipython",
                "version": 3
            },
            "file_extension": ".py",
            "mimetype": "text/x-python",
            "name": "python",
            "nbconvert_exporter": "python",
            "pygments_lexer": "ipython3",
            "version": "3.9.18"
        },
        "toc": {
            "base_numbering": 1,
            "nav_menu": {},
            "number_sections": true,
            "sideBar": true,
            "skip_h1_title": false,
            "title_cell": "Table of Contents",
            "title_sidebar": "Contents",
            "toc_cell": false,
            "toc_position": {},
            "toc_section_display": true,
            "toc_window_display": false
        }
    },
    "nbformat": 4,
    "nbformat_minor": 2
}
